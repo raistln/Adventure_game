{
 "cells": [
  {
   "cell_type": "code",
   "execution_count": null,
   "metadata": {},
   "outputs": [],
   "source": [
    "weapon = 0\n",
    "armor = 0"
   ]
  },
  {
   "cell_type": "code",
   "execution_count": 2,
   "metadata": {},
   "outputs": [],
   "source": [
    "def introScene():\n",
    "  directions = [\"left\",\"right\",\"forward\"]\n",
    "  print(\"When you open your eyes you realize that you are in an old underground temple.\")\n",
    "  userInput = \"\"\n",
    "  while userInput not in directions:\n",
    "    print(\"Options: left/backward/forward\")\n",
    "    userInput = input()\n",
    "    if userInput == \"left\":\n",
    "      old_cementery()\n",
    "    elif userInput == \"forward\":\n",
    "      scream()\n",
    "    elif userInput == \"backward\":\n",
    "      living_room()\n",
    "    else: \n",
    "      print(\"Please enter a valid option.\")"
   ]
  },
  {
   "cell_type": "code",
   "execution_count": null,
   "metadata": {},
   "outputs": [],
   "source": [
    "def pre_exit():\n",
    "  directions = [\"left\",\"right\",\"forward\"]\n",
    "  print(\"You see a light at the end of the tunnel. You quickly start running as you can still hear footsteps behind you.\")\n",
    "  userInput = \"\"\n",
    "  while userInput not in directions:\n",
    "    print(\"Options: backward/forward\")\n",
    "    userInput = input()\n",
    "    if userInput == \"right\":\n",
    "      showSkeletons()\n",
    "    elif userInput == \"backward\":\n",
    "      print(\"You find that this door opens into a wall.\")\n",
    "    else: \n",
    "      print(\"Please enter a valid option.\")"
   ]
  },
  {
   "cell_type": "code",
   "execution_count": null,
   "metadata": {},
   "outputs": [],
   "source": [
    "def sacred_altar():\n",
    "  directions = [\"left\",\"right\",\"forward\"]\n",
    "  print(\"Upon entering the room you see a large stone altar stained with much blood.\")\n",
    "  userInput = \"\"\n",
    "  while userInput not in directions:\n",
    "    print(\"Options: right/backward/forward\")\n",
    "    userInput = input()\n",
    "    if userInput == \"right\":\n",
    "      secret_room()\n",
    "    elif userInput == \"forward\":\n",
    "      pre_exit()\n",
    "    elif userInput == \"backward\":\n",
    "      scream()\n",
    "    else: \n",
    "      print(\"Please enter a valid option.\")"
   ]
  },
  {
   "cell_type": "code",
   "execution_count": null,
   "metadata": {},
   "outputs": [],
   "source": [
    "def scream():\n",
    "  directions = [\"left\",\"right\",\"forward\"]\n",
    "  print(\"You are walking across the room when suddenly you hear a scream coming from the next room.\")\n",
    "  userInput = \"\"\n",
    "  while userInput not in directions:\n",
    "    print(\"Options: right/backward/forward\")\n",
    "    userInput = input()\n",
    "    if userInput == \"right\":\n",
    "      werewolf()\n",
    "    elif userInput == \"forward\":\n",
    "      sacred_altar()\n",
    "    elif userInput == \"backward\":\n",
    "      introScene()\n",
    "    else: \n",
    "      print(\"Please enter a valid option.\")"
   ]
  },
  {
   "cell_type": "code",
   "execution_count": null,
   "metadata": {},
   "outputs": [],
   "source": [
    "def werewolf():\n",
    "  directions = [\"left\",\"right\",\"forward\"]\n",
    "  print(\"You are at a crossroads, and you can choose to go down any of the four hallways. Where would you like to go?\")\n",
    "  userInput = \"\"\n",
    "  while userInput not in directions:\n",
    "    print(\"Options: flee or fight\")\n",
    "    userInput = input()\n",
    "    if userInput == \"flee\":\n",
    "      showShadowFigure()\n",
    "    elif userInput == \"fight\":\n",
    "      showSkeletons()\n",
    "      print(\"You find that this door opens into a wall.\")\n",
    "    else: \n",
    "      print(\"Please enter a valid option.\")"
   ]
  },
  {
   "cell_type": "code",
   "execution_count": null,
   "metadata": {},
   "outputs": [],
   "source": [
    "def old_cementery():\n",
    "  directions = [\"left\",\"right\",\"forward\"]\n",
    "  print(\"Entering this kind of room, several tombstones full of mold are observed. Some of them with open holes, being able to see the bodies decomposing.\")\n",
    "  userInput = \"\"\n",
    "  while userInput not in directions:\n",
    "    print(\"Options: backward/forward\")\n",
    "    userInput = input()\n",
    "    if userInput == \"forward\":\n",
    "      dead_end()\n",
    "    elif userInput == \"backward\":\n",
    "      introScene()\n",
    "    else: \n",
    "      print(\"Please enter a valid option.\")"
   ]
  },
  {
   "cell_type": "code",
   "execution_count": null,
   "metadata": {},
   "outputs": [],
   "source": [
    "def trap():\n",
    "  directions = [\"left\",\"right\",\"forward\"]\n",
    "  print(\"As soon as you enter the room you fall into a trap. It takes several hours to be able to let go.\")\n",
    "  userInput = \"\"\n",
    "  while userInput not in directions:\n",
    "    print(\"Options: backward\")\n",
    "    userInput = input()\n",
    "    if userInput == \"backward\":\n",
    "      living_room()\n",
    "    else: \n",
    "      print(\"Please enter a valid option.\")"
   ]
  },
  {
   "cell_type": "code",
   "execution_count": null,
   "metadata": {},
   "outputs": [],
   "source": [
    "def secret_room():\n",
    "  directions = [\"left\",\"right\",\"forward\"]\n",
    "  print(\"You see a series of marks on the wall and realize there is a secret door. You see a skeleton in armor, you carefully take it off and put it on.\")\n",
    "  userInput = \"\"\n",
    "  armor = True\n",
    "  while userInput not in directions:\n",
    "    print(\"Options: backward\")\n",
    "    userInput = input()\n",
    "    if userInput == \"backward\":\n",
    "      print(\"You find that this door opens into a wall.\")\n",
    "    else: \n",
    "      print(\"Please enter a valid option.\")"
   ]
  },
  {
   "cell_type": "code",
   "execution_count": null,
   "metadata": {},
   "outputs": [],
   "source": [
    "def living_room():\n",
    "  directions = [\"left\",\"right\",\"forward\"]\n",
    "  print(\"It is a large room where you can see a series of tents and fireplaces. It must have been a place where the temple lords lived.\")\n",
    "  userInput = \"\"\n",
    "  while userInput not in directions:\n",
    "    print(\"Options: right/backward/forward\")\n",
    "    userInput = input()\n",
    "    if userInput == \"right\":\n",
    "      skeleton()\n",
    "    elif userInput == \"forward\":\n",
    "      trap()\n",
    "    elif userInput == \"backward\":\n",
    "      introScene()\n",
    "    else: \n",
    "      print(\"Please enter a valid option.\")"
   ]
  },
  {
   "cell_type": "code",
   "execution_count": null,
   "metadata": {},
   "outputs": [],
   "source": [
    "def skeleton():\n",
    "  directions = [\"left\",\"right\",\"forward\"]\n",
    "  print(\"You hear a series of cracks. You turn around and see how there are several skeletons getting up. You quickly attack and manage to eliminate them easily.\")\n",
    "  userInput = \"\"\n",
    "  while userInput not in directions:\n",
    "    print(\"Options: left/right/backward/forward\")\n",
    "    userInput = input()\n",
    "    if userInput == \"left\":\n",
    "      weapon_room()\n",
    "    elif userInput == \"right\":\n",
    "      boss()\n",
    "    elif userInput == \"forward\":\n",
    "      dead_end()\n",
    "    elif userInput == \"backward\":\n",
    "      living_room\n",
    "    else: \n",
    "      print(\"Please enter a valid option.\")"
   ]
  },
  {
   "cell_type": "code",
   "execution_count": null,
   "metadata": {},
   "outputs": [],
   "source": [
    "def weapon_room():\n",
    "  directions = [\"left\",\"right\",\"forward\"]\n",
    "  print(\"You see a room full of weapons, some of them very worn and rusty. But you find one well preserved enough and take it with you.\")\n",
    "  userInput = \"\"\n",
    "  while userInput not in directions:\n",
    "    print(\"Options: backward\")\n",
    "    userInput = input()\n",
    "    if userInput == \"backward\":\n",
    "      skeleton()\n",
    "    else: \n",
    "      print(\"Please enter a valid option.\")"
   ]
  },
  {
   "cell_type": "code",
   "execution_count": null,
   "metadata": {},
   "outputs": [],
   "source": [
    "def boss():\n",
    "  directions = [\"left\",\"right\",\"forward\"]\n",
    "  print(\"You are at a crossroads, and you can choose to go down any of the four hallways. Where would you like to go?\")\n",
    "  userInput = \"\"\n",
    "  while userInput not in directions:\n",
    "    print(\"Options: fight/flee\")\n",
    "    userInput = input()\n",
    "    if userInput == \"fight\":\n",
    "      showShadowFigure()\n",
    "    elif userInput == \"flee\":\n",
    "      showSkeletons()\n",
    "    else: \n",
    "      print(\"Please enter a valid option.\")"
   ]
  },
  {
   "cell_type": "code",
   "execution_count": null,
   "metadata": {},
   "outputs": [],
   "source": [
    "def exit():\n",
    "  directions = [\"left\",\"right\",\"forward\"]\n",
    "  print(\"You are at a crossroads, and you can choose to go down any of the four hallways. Where would you like to go?\")\n",
    "  userInput = \"\"\n",
    "  while userInput not in directions:\n",
    "    print(\"Options: left/right/backward/forward\")\n",
    "    userInput = input()\n",
    "    if userInput == \"left\":\n",
    "      showShadowFigure()\n",
    "    elif userInput == \"right\":\n",
    "      showSkeletons()\n",
    "    elif userInput == \"forward\":\n",
    "      hauntedRoom()\n",
    "    elif userInput == \"backward\":\n",
    "      print(\"You find that this door opens into a wall.\")\n",
    "    else: \n",
    "      print(\"Please enter a valid option.\")"
   ]
  },
  {
   "cell_type": "code",
   "execution_count": null,
   "metadata": {},
   "outputs": [],
   "source": [
    "def dead_end():\n",
    "  directions = [\"left\",\"right\",\"forward\"]\n",
    "  print(\"You are at a crossroads, and you can choose to go down any of the four hallways. Where would you like to go?\")\n",
    "  userInput = \"\"\n",
    "  while userInput not in directions:\n",
    "    print(\"Options: backward\")\n",
    "    userInput = input()\n",
    "    if userInput == \"backward\":\n",
    "      print(\"You find that this door opens into a wall.\")\n",
    "    else: \n",
    "      print(\"Please enter a valid option.\")"
   ]
  },
  {
   "cell_type": "code",
   "execution_count": 3,
   "metadata": {},
   "outputs": [
    {
     "name": "stdout",
     "output_type": "stream",
     "text": [
      "Welcome to the Adventure Game!\n",
      "As an avid traveler, you have decided to visit the Catacombs of Paris.\n",
      "However, during your exploration, you find yourself lost.\n",
      "You can choose to walk in multiple directions to find a way out.\n",
      "Let's start with your name: \n",
      "Good luck, SAM.\n",
      "You are at a crossroads, and you can choose to go down any of the four hallways. Where would you like to go?\n",
      "Options: left/right/backward/forward\n",
      "Please enter a valid option.\n",
      "Options: left/right/backward/forward\n",
      "Please enter a valid option.\n",
      "Options: left/right/backward/forward\n",
      "Please enter a valid option.\n",
      "Options: left/right/backward/forward\n",
      "Please enter a valid option.\n",
      "Options: left/right/backward/forward\n"
     ]
    },
    {
     "ename": "KeyboardInterrupt",
     "evalue": "Interrupted by user",
     "output_type": "error",
     "traceback": [
      "\u001b[1;31m---------------------------------------------------------------------------\u001b[0m",
      "\u001b[1;31mKeyboardInterrupt\u001b[0m                         Traceback (most recent call last)",
      "Cell \u001b[1;32mIn [3], line 9\u001b[0m\n\u001b[0;32m      7\u001b[0m name \u001b[39m=\u001b[39m \u001b[39minput\u001b[39m()\n\u001b[0;32m      8\u001b[0m \u001b[39mprint\u001b[39m(\u001b[39m\"\u001b[39m\u001b[39mGood luck, \u001b[39m\u001b[39m\"\u001b[39m \u001b[39m+\u001b[39mname\u001b[39m+\u001b[39m \u001b[39m\"\u001b[39m\u001b[39m.\u001b[39m\u001b[39m\"\u001b[39m)\n\u001b[1;32m----> 9\u001b[0m introScene()\n",
      "Cell \u001b[1;32mIn [2], line 7\u001b[0m, in \u001b[0;36mintroScene\u001b[1;34m()\u001b[0m\n\u001b[0;32m      5\u001b[0m \u001b[39mwhile\u001b[39;00m userInput \u001b[39mnot\u001b[39;00m \u001b[39min\u001b[39;00m directions:\n\u001b[0;32m      6\u001b[0m   \u001b[39mprint\u001b[39m(\u001b[39m\"\u001b[39m\u001b[39mOptions: left/right/backward/forward\u001b[39m\u001b[39m\"\u001b[39m)\n\u001b[1;32m----> 7\u001b[0m   userInput \u001b[39m=\u001b[39m \u001b[39minput\u001b[39;49m()\n\u001b[0;32m      8\u001b[0m   \u001b[39mif\u001b[39;00m userInput \u001b[39m==\u001b[39m \u001b[39m\"\u001b[39m\u001b[39mleft\u001b[39m\u001b[39m\"\u001b[39m:\n\u001b[0;32m      9\u001b[0m     showShadowFigure()\n",
      "File \u001b[1;32m~\\AppData\\Local\\Packages\\PythonSoftwareFoundation.Python.3.10_qbz5n2kfra8p0\\LocalCache\\local-packages\\Python310\\site-packages\\ipykernel\\kernelbase.py:1177\u001b[0m, in \u001b[0;36mKernel.raw_input\u001b[1;34m(self, prompt)\u001b[0m\n\u001b[0;32m   1173\u001b[0m \u001b[39mif\u001b[39;00m \u001b[39mnot\u001b[39;00m \u001b[39mself\u001b[39m\u001b[39m.\u001b[39m_allow_stdin:\n\u001b[0;32m   1174\u001b[0m     \u001b[39mraise\u001b[39;00m StdinNotImplementedError(\n\u001b[0;32m   1175\u001b[0m         \u001b[39m\"\u001b[39m\u001b[39mraw_input was called, but this frontend does not support input requests.\u001b[39m\u001b[39m\"\u001b[39m\n\u001b[0;32m   1176\u001b[0m     )\n\u001b[1;32m-> 1177\u001b[0m \u001b[39mreturn\u001b[39;00m \u001b[39mself\u001b[39;49m\u001b[39m.\u001b[39;49m_input_request(\n\u001b[0;32m   1178\u001b[0m     \u001b[39mstr\u001b[39;49m(prompt),\n\u001b[0;32m   1179\u001b[0m     \u001b[39mself\u001b[39;49m\u001b[39m.\u001b[39;49m_parent_ident[\u001b[39m\"\u001b[39;49m\u001b[39mshell\u001b[39;49m\u001b[39m\"\u001b[39;49m],\n\u001b[0;32m   1180\u001b[0m     \u001b[39mself\u001b[39;49m\u001b[39m.\u001b[39;49mget_parent(\u001b[39m\"\u001b[39;49m\u001b[39mshell\u001b[39;49m\u001b[39m\"\u001b[39;49m),\n\u001b[0;32m   1181\u001b[0m     password\u001b[39m=\u001b[39;49m\u001b[39mFalse\u001b[39;49;00m,\n\u001b[0;32m   1182\u001b[0m )\n",
      "File \u001b[1;32m~\\AppData\\Local\\Packages\\PythonSoftwareFoundation.Python.3.10_qbz5n2kfra8p0\\LocalCache\\local-packages\\Python310\\site-packages\\ipykernel\\kernelbase.py:1219\u001b[0m, in \u001b[0;36mKernel._input_request\u001b[1;34m(self, prompt, ident, parent, password)\u001b[0m\n\u001b[0;32m   1216\u001b[0m             \u001b[39mbreak\u001b[39;00m\n\u001b[0;32m   1217\u001b[0m \u001b[39mexcept\u001b[39;00m \u001b[39mKeyboardInterrupt\u001b[39;00m:\n\u001b[0;32m   1218\u001b[0m     \u001b[39m# re-raise KeyboardInterrupt, to truncate traceback\u001b[39;00m\n\u001b[1;32m-> 1219\u001b[0m     \u001b[39mraise\u001b[39;00m \u001b[39mKeyboardInterrupt\u001b[39;00m(\u001b[39m\"\u001b[39m\u001b[39mInterrupted by user\u001b[39m\u001b[39m\"\u001b[39m) \u001b[39mfrom\u001b[39;00m \u001b[39mNone\u001b[39m\n\u001b[0;32m   1220\u001b[0m \u001b[39mexcept\u001b[39;00m \u001b[39mException\u001b[39;00m:\n\u001b[0;32m   1221\u001b[0m     \u001b[39mself\u001b[39m\u001b[39m.\u001b[39mlog\u001b[39m.\u001b[39mwarning(\u001b[39m\"\u001b[39m\u001b[39mInvalid Message:\u001b[39m\u001b[39m\"\u001b[39m, exc_info\u001b[39m=\u001b[39m\u001b[39mTrue\u001b[39;00m)\n",
      "\u001b[1;31mKeyboardInterrupt\u001b[0m: Interrupted by user"
     ]
    }
   ],
   "source": [
    "while True:\n",
    "    print(\"Welcome to the Adventure Game!\")\n",
    "    print(\"It was a dark and rainy night. Suddenly you hear a howl very close.\")\n",
    "    print(\"Wet and scared you decide to flee in the opposite direction to the howl. \")\n",
    "    print(\"Without realizing it you fall into a hole in the ground.\")\n",
    "    print(\"You can choose to walk in multiple directions to find a way out.\")\n",
    "    print(\"Let's start with your name: \")\n",
    "    name = input()\n",
    "    print(\"Good luck, \" +name+ \".\")\n",
    "    introScene()"
   ]
  }
 ],
 "metadata": {
  "kernelspec": {
   "display_name": "Python 3.10.8 64-bit (microsoft store)",
   "language": "python",
   "name": "python3"
  },
  "language_info": {
   "codemirror_mode": {
    "name": "ipython",
    "version": 3
   },
   "file_extension": ".py",
   "mimetype": "text/x-python",
   "name": "python",
   "nbconvert_exporter": "python",
   "pygments_lexer": "ipython3",
   "version": "3.10.8"
  },
  "orig_nbformat": 4,
  "vscode": {
   "interpreter": {
    "hash": "3282607f385ea6f15702157e2a823b97e47a25ad58852c02230532c044fb265d"
   }
  }
 },
 "nbformat": 4,
 "nbformat_minor": 2
}
